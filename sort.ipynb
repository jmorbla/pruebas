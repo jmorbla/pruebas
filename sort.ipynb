{
  "nbformat": 4,
  "nbformat_minor": 0,
  "metadata": {
    "colab": {
      "provenance": [],
      "authorship_tag": "ABX9TyMkv9eNnz6kLVQXleo6kPkd",
      "include_colab_link": true
    },
    "kernelspec": {
      "name": "python3",
      "display_name": "Python 3"
    },
    "language_info": {
      "name": "python"
    }
  },
  "cells": [
    {
      "cell_type": "markdown",
      "metadata": {
        "id": "view-in-github",
        "colab_type": "text"
      },
      "source": [
        "<a href=\"https://colab.research.google.com/github/jmorbla/pruebas/blob/main/sort.ipynb\" target=\"_parent\"><img src=\"https://colab.research.google.com/assets/colab-badge.svg\" alt=\"Open In Colab\"/></a>"
      ]
    },
    {
      "cell_type": "code",
      "execution_count": null,
      "metadata": {
        "id": "7S2sDPxokzXh",
        "colab": {
          "base_uri": "https://localhost:8080/"
        },
        "outputId": "f1acd5cd-d626-4941-8e72-dce48d8b0731"
      },
      "outputs": [
        {
          "output_type": "stream",
          "name": "stdout",
          "text": [
            "Collecting sorting\n",
            "  Downloading sorting-1.0.3.tar.gz (3.7 kB)\n",
            "  Preparing metadata (setup.py) ... \u001b[?25l\u001b[?25hdone\n",
            "Building wheels for collected packages: sorting\n",
            "  Building wheel for sorting (setup.py) ... \u001b[?25l\u001b[?25hdone\n",
            "  Created wheel for sorting: filename=sorting-1.0.3-py3-none-any.whl size=5861 sha256=ad18883b11e66b9b5073a95ff516c625d3b52886424f461c24ad4d982abf2573\n",
            "  Stored in directory: /root/.cache/pip/wheels/be/29/6f/37bba489062514c58a40b6581a4fdb006cc01eb569eb6f9f35\n",
            "Successfully built sorting\n",
            "Installing collected packages: sorting\n",
            "Successfully installed sorting-1.0.3\n"
          ]
        }
      ],
      "source": [
        "!pip install sorting"
      ]
    },
    {
      "cell_type": "code",
      "source": [
        "import sorting\n",
        "lista = [4, 5, 32, 7, 88, 1, 46]\n",
        "lista_ord = sorting.bubble(lista)\n",
        "print(lista_ord)"
      ],
      "metadata": {
        "id": "qan34Ej2k2QB",
        "colab": {
          "base_uri": "https://localhost:8080/"
        },
        "outputId": "9527192a-395e-41b1-8778-e95ea612c492"
      },
      "execution_count": null,
      "outputs": [
        {
          "output_type": "stream",
          "name": "stdout",
          "text": [
            "[1, 4, 5, 7, 32, 46, 88]\n"
          ]
        }
      ]
    }
  ]
}